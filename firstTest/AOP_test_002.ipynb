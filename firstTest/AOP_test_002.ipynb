{
 "cells": [
  {
   "cell_type": "markdown",
   "metadata": {},
   "source": [
    "### 1. Zadatak\n",
    "\n",
    "Ukljucite __numpy__ biblioteku u ovaj jupyter notebook i kreirajte niz od __10 celobrojnih elemenata__."
   ]
  },
  {
   "cell_type": "code",
   "execution_count": null,
   "metadata": {},
   "outputs": [],
   "source": []
  },
  {
   "cell_type": "markdown",
   "metadata": {},
   "source": [
    "### 2. Zadatak\n",
    "NOTE: Za svaki korak definisite novu varijablu u kojoj ce biti sacuvane vrednosti dobijene u tom koraku.\n",
    "\n",
    "1. Primenite operaciju __korenovanja__ na svakom pojedinacnom elementu u nizu koji ste definisali u __prvom zadatku__ i prikazite vrednosti niza nakon korenovanja.\n",
    "2. Primenite operaciju __kvadriranja__ na niz iz __prvog zadatka__ i prikazite vrednosti nakon kvadriranja. (Ovaj korak se moze odraditi na dva nacina)\n",
    "3. Pomnozite svaki element niza iz prvog zadatka sa brojem __5.5__ ."
   ]
  },
  {
   "cell_type": "code",
   "execution_count": null,
   "metadata": {},
   "outputs": [],
   "source": []
  },
  {
   "cell_type": "markdown",
   "metadata": {},
   "source": [
    "### 3. Zadatak\n",
    "\n",
    "1. Definisite novi niz sa _osam elemenata_.\n",
    "2. Promenite shape niza, iz prvog koraka ovog zadatka, u __2x4__\n",
    "3. Prikazite niz sa novim dimenizjama."
   ]
  },
  {
   "cell_type": "code",
   "execution_count": null,
   "metadata": {},
   "outputs": [],
   "source": []
  },
  {
   "cell_type": "markdown",
   "metadata": {},
   "source": [
    "### 4. Zadatak\n",
    "\n",
    "1. Definisite matricu dimenzija __4x2__ sa nasumicnim vrednostima. (Hint: koristite numpy biblioteku)\n",
    "2. Koristeci funkciju iz numpy biblioteke pomnozite matrice iz treceg zadatka i cetvrtog zadatka.\n",
    "4. Prikazite shape matrice koju ste dobili nakon mnozenja."
   ]
  },
  {
   "cell_type": "code",
   "execution_count": null,
   "metadata": {},
   "outputs": [],
   "source": []
  },
  {
   "cell_type": "markdown",
   "metadata": {},
   "source": [
    "### 5. Zadatak\n",
    "Indeksiranje elemenenata\n",
    "\n",
    "1. Definisite matricu dimenzija __10x15__ sa nasumicnim vrednostima.\n",
    "2. Prikazite _sve vrednosti_ iz _treceg reda_. (Hint: treba da ih bude 15. :-) )\n",
    "3. Indeksirajte vrednosti iz _desetog reda_ i koje se nalaze u kolonama _8-11_.\n",
    "4. Prikazite element iz _poslednje kolone_ i _poslednjeg reda_.\n",
    "5. Prikazite elemente iz _prvog reda_ koji se nalaze na _parnim indeksima_.\n",
    "6. Prikazite elemente iz petog reda, _unazad_."
   ]
  },
  {
   "cell_type": "code",
   "execution_count": null,
   "metadata": {},
   "outputs": [],
   "source": []
  },
  {
   "cell_type": "markdown",
   "metadata": {},
   "source": [
    "### 6. Zadatak\n",
    "\n",
    "Ukljucite biblioteku __matplotlib__ i __dodajte komandu__ kako bi sve grafove videli unutar ovog jupyter notebook-a."
   ]
  },
  {
   "cell_type": "code",
   "execution_count": null,
   "metadata": {},
   "outputs": [],
   "source": []
  },
  {
   "cell_type": "markdown",
   "metadata": {},
   "source": [
    "### 7. Zadatak\n",
    "\n",
    "1. Definisite niz od __500__ uzastopnih brojeva. (Hint: koristite funkciju iz numpy bibliote ako vas mrzi da sami pisete 500 elemenata :-))\n",
    "2. Koristeci funkciju __stem__ prikazite na grafu niz od __500__ uzastopnih elemenata."
   ]
  },
  {
   "cell_type": "code",
   "execution_count": null,
   "metadata": {},
   "outputs": [],
   "source": []
  },
  {
   "cell_type": "markdown",
   "metadata": {},
   "source": [
    "### 8. Zadatak\n",
    "\n",
    "1. Definisite niz sa __1500__ nasumicnih vrednosti iz __gausove raspodele__.\n",
    "2. Koristeci funckiju iz biblioteke __matplotlib__ iscrtajte __histogram__ prethodno definisanog niza."
   ]
  },
  {
   "cell_type": "code",
   "execution_count": null,
   "metadata": {},
   "outputs": [],
   "source": []
  },
  {
   "cell_type": "markdown",
   "metadata": {},
   "source": [
    "### 9. Zadatak\n",
    "\n",
    "1. Definisite niz od 10 elemenata\n",
    "2. Koristeci __for__ petlju prikazite sve elemente ovog niza tako sto ce svake iteracije petlje biti ispisan _po jedan element_."
   ]
  },
  {
   "cell_type": "code",
   "execution_count": null,
   "metadata": {},
   "outputs": [],
   "source": []
  },
  {
   "cell_type": "markdown",
   "metadata": {},
   "source": [
    "### 10. Zadatak\n",
    "\n",
    "1. Ukljucite biblioteku __pandas__.\n",
    "2. Koristeci __ read_csv __ funkciju ocitajte dataset koji vam je dat.\n",
    "3. Prikazite prvih 10 elemenata iz dataseta koristeci funkciju __ head __"
   ]
  },
  {
   "cell_type": "code",
   "execution_count": null,
   "metadata": {},
   "outputs": [],
   "source": []
  }
 ],
 "metadata": {
  "kernelspec": {
   "display_name": "Python 3",
   "language": "python",
   "name": "python3"
  },
  "language_info": {
   "codemirror_mode": {
    "name": "ipython",
    "version": 3
   },
   "file_extension": ".py",
   "mimetype": "text/x-python",
   "name": "python",
   "nbconvert_exporter": "python",
   "pygments_lexer": "ipython3",
   "version": "3.6.4"
  }
 },
 "nbformat": 4,
 "nbformat_minor": 2
}
