{
 "cells": [
  {
   "cell_type": "code",
   "execution_count": 1,
   "metadata": {
    "collapsed": true
   },
   "outputs": [],
   "source": [
    "# File - > dowload as - > sacuvati fajl kao .ipynb i kao .html fajl\n",
    "# Dokument nazvati ime_prezime_broj_indeksa \n",
    "# poslati na vmatic@singidunum.ac.rs"
   ]
  },
  {
   "cell_type": "markdown",
   "metadata": {},
   "source": [
    "1. Napraviti numpy niz od 12 brojeva. \n",
    "\n",
    "1.1 Ispisati prvu trecinu niza, ispisati poslednju trecinu niza\n",
    "\n",
    "1.2. Napraviti matricu od ovog niza. Izabrati dimenzije proizvoljno\n",
    "\n",
    "1.3. Pronaci kolonu cija je suma elemenata najveca.\n",
    "\n",
    "1.4. Transponovati ovu matricu i definisati je kao novu promenljivu. Pomnoziti svaki element sa 3."
   ]
  },
  {
   "cell_type": "code",
   "execution_count": null,
   "metadata": {
    "collapsed": true
   },
   "outputs": [],
   "source": []
  },
  {
   "cell_type": "markdown",
   "metadata": {},
   "source": [
    "2.1 Napraviti niz od prvih 100 celih brojeva. \n",
    "\n",
    "2.2. Kreirati funkciju n^3 stepen.\n",
    "\n",
    "2.3. koristeci naredbu stem iscrtati ovu funkciju"
   ]
  },
  {
   "cell_type": "code",
   "execution_count": null,
   "metadata": {
    "collapsed": true
   },
   "outputs": [],
   "source": []
  },
  {
   "cell_type": "markdown",
   "metadata": {},
   "source": [
    "3.1. Ucitati .csv fail daily-female-births.csv koji se nalazi na stranici predmeta\n",
    "\n",
    "3.2. Koliko je ukupno dece rodjeno u oktobru ?\n",
    "\n",
    "3.3. U kom mesecu je rodjeno najmanje dece ukupno ?\n",
    "\n",
    "3.4. Kog dana u godini je rodjeno najmanje dece ?\n",
    "\n",
    "3.5. Nacrtati histogram. Na osnovu histograma proceiniti vrednosti 25% i 75%.\n",
    "\n"
   ]
  },
  {
   "cell_type": "code",
   "execution_count": null,
   "metadata": {
    "collapsed": true
   },
   "outputs": [],
   "source": []
  },
  {
   "cell_type": "markdown",
   "metadata": {},
   "source": [
    "4.1. Na osnovu zadatka 3 nacrtati scatter plot serije y (t) i njene zakasnjene serije y (t+1). Mozete koristiti naredbu shift().\n",
    "\n",
    "4.2. Da li izmedju ove dve serije postoji korelacija ? Komentarisati."
   ]
  },
  {
   "cell_type": "code",
   "execution_count": null,
   "metadata": {
    "collapsed": true
   },
   "outputs": [],
   "source": []
  },
  {
   "cell_type": "markdown",
   "metadata": {},
   "source": [
    "5.1. Ucitati seriju 'daily-minimum-temperatures.csv'. \n",
    "\n",
    "5.2. Koliko ukupno dana u godini je temperatura bila iznad 15 stepeni Celzijusa. Moze se resavati preko histograma ili preko direktog 'boolean' indeksiranja. \n",
    "\n",
    "5.3. Kojih uzastopnih 10 dana u ovoj seriji se mogu smatrati kao najhladiji ? Deset najhladnijih dana predstavljaju minimum od sume svih temperatura za ovih deset dana.\n",
    "\n",
    "5.4. Nacrtati boxplot grafik tako da mozemo medjusobno analizirati pojedinacne godine ? Koja je bila najtoplija godina po srednjoj temperaturi ? "
   ]
  },
  {
   "cell_type": "code",
   "execution_count": null,
   "metadata": {
    "collapsed": true
   },
   "outputs": [],
   "source": [
    "# File - > dowload as - > sacuvati fajl kao .ipynb i kao .html fajl\n",
    "# Dokument nazvati ime_prezime_broj_indeksa \n",
    "# poslati na vmatic@singidunum.ac.rs"
   ]
  },
  {
   "cell_type": "code",
   "execution_count": null,
   "metadata": {
    "collapsed": true
   },
   "outputs": [],
   "source": []
  },
  {
   "cell_type": "code",
   "execution_count": null,
   "metadata": {
    "collapsed": true
   },
   "outputs": [],
   "source": []
  }
 ],
 "metadata": {
  "kernelspec": {
   "display_name": "Python 3",
   "language": "python",
   "name": "python3"
  },
  "language_info": {
   "codemirror_mode": {
    "name": "ipython",
    "version": 3
   },
   "file_extension": ".py",
   "mimetype": "text/x-python",
   "name": "python",
   "nbconvert_exporter": "python",
   "pygments_lexer": "ipython3",
   "version": "3.6.2"
  }
 },
 "nbformat": 4,
 "nbformat_minor": 2
}
