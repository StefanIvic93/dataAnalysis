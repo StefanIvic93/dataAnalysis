{
 "cells": [
  {
   "cell_type": "code",
   "execution_count": 1,
   "metadata": {
    "collapsed": true
   },
   "outputs": [],
   "source": [
    "# Analiza i obrada podataka\n",
    "# zadatke sacuvati kao .ipynb i .html fajl. \n",
    "# fajlove nazvati \"ime_prezime_broj_indeksa\"\n",
    "# Fajlove nemojte dodavati u zipp datoteku. \n",
    "# Fajlove poslati na vmatic@singidunum.ac.rs\n",
    "\n",
    "\n",
    "# Studenti koji su radili test mogu raditi zadatke 3, 4, i 5. "
   ]
  },
  {
   "cell_type": "raw",
   "metadata": {},
   "source": [
    "1.1 Definisite niz od 200 neuredjenih elemenata.\n",
    "Koristeci for petlju prikazite sve elemente ovog niza tako sto cete svake iteracije petlje biti ispisan po jedan element.\n",
    "1.2. Iscrtati ovaj niz naredbom stem(). \n",
    "1.3. Nacrtati histogram. Proceniti srednju vrednost niza na osnovu histograma. "
   ]
  },
  {
   "cell_type": "raw",
   "metadata": {},
   "source": [
    "2. Ucitati 'pollution_small' dataset\n"
   ]
  },
  {
   "cell_type": "code",
   "execution_count": 7,
   "metadata": {
    "collapsed": true
   },
   "outputs": [],
   "source": [
    "# N unesite poslednju cifru vaseg index broja.\n",
    "# U komentaru upisite i ceo broj indexa radi provere !\n",
    "N = 0\n",
    "vremenska_serija =  N % 2\n",
    "# 0 - pm10\n",
    "# 1 - no2\n"
   ]
  },
  {
   "cell_type": "raw",
   "metadata": {},
   "source": [
    "2.1. Odabrati jednu godinu po izboru. Pronaci dan sa najvecom koncentracijom analizirane cestice u ovoj godini. \n",
    "2.2. Primeniti naredbu describe() za odabranu godinu. Ovde se izracunavaju koeficijenti 25% i 75%. Izracunajte sami za ovu godinu parametar 40% i 90%. \n",
    "2.3. Nacrtati boxplot grafik za ovu godinu. Komentarisati grafik. \n",
    "2.4. Nacrtati sve godine na jednom grafiku tako da se mogu uporedjivati isti datumi prethodnih godina. Dakle, jedna godina jedan red, a ispod nje ostale godine, tako da se datumi vertikalno poklapaju. "
   ]
  },
  {
   "cell_type": "raw",
   "metadata": {},
   "source": [
    "3.1. Za vremensku seriju iz zadatka 2, nacrtati autokorelacionu funkciju. Sta se moze zakljuciti na osnovu ovog grafika ? Komentarisati. \n",
    "3.2. Napraviti nove 'signale' koji su dobijeni kada se orignialni signal zakasni za jedan, tri i pet dana. Nacrtati lag_plot grafike. Uporediti grafike. Komentarisati. \n"
   ]
  },
  {
   "cell_type": "code",
   "execution_count": null,
   "metadata": {
    "collapsed": true
   },
   "outputs": [],
   "source": []
  },
  {
   "cell_type": "raw",
   "metadata": {},
   "source": [
    "4.1. Iz cele vremenske serije odrediti maksimalnu koncentraciju za period od 7 uzastopnih dana. \n",
    "4.2. Koristeci kalendar pronaci koji dani su vikendi - subota i nedelja. Koji vikend (i subota i nedelja) su bili sa najnizom koncentracijom cestice koju ispitujete? \n",
    "4.3. Pronaci max-imalnu vrednost cele vremenske serije. Koliki je najduzi niz uzastopnih dana u kojima je vrednost koncentracije cestice bila manja od 40% od maksimalne vrednosti? Kog datuma je pocela ta serija ?"
   ]
  },
  {
   "cell_type": "code",
   "execution_count": null,
   "metadata": {
    "collapsed": true
   },
   "outputs": [],
   "source": []
  },
  {
   "cell_type": "code",
   "execution_count": null,
   "metadata": {
    "collapsed": true
   },
   "outputs": [],
   "source": []
  },
  {
   "cell_type": "raw",
   "metadata": {},
   "source": [
    "5.1. Analiziranu seriju dekomponovati na odgovarajuce signale. Iscrati ove signale. \n",
    "5.2. Da li uocavate neka zapazanja ? Koliki je Level, Trend, Seasonality ?\n",
    "5.3. Zasto se vrsi dekompozicija ?"
   ]
  },
  {
   "cell_type": "code",
   "execution_count": 2,
   "metadata": {
    "collapsed": true
   },
   "outputs": [],
   "source": [
    "# Analiza i obrada podataka\n",
    "# zadatke sacuvati kao .ipynb i .html fajl. \n",
    "# fajlove nazvati \"ime_prezime_broj_indeksa\"\n",
    "# Fajlove nemojte dodavati u zipp datoteku. \n",
    "# Fajlove poslati na vmatic@singidunum.ac.rs\n",
    "\n",
    "\n",
    "# Studenti koji su radili test mogu raditi zadatke 3, 4, i 5. "
   ]
  },
  {
   "cell_type": "code",
   "execution_count": null,
   "metadata": {
    "collapsed": true
   },
   "outputs": [],
   "source": []
  }
 ],
 "metadata": {
  "kernelspec": {
   "display_name": "Python 3",
   "language": "python",
   "name": "python3"
  },
  "language_info": {
   "codemirror_mode": {
    "name": "ipython",
    "version": 3
   },
   "file_extension": ".py",
   "mimetype": "text/x-python",
   "name": "python",
   "nbconvert_exporter": "python",
   "pygments_lexer": "ipython3",
   "version": "3.6.1"
  }
 },
 "nbformat": 4,
 "nbformat_minor": 1
}
