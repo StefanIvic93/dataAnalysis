{
 "cells": [
  {
   "cell_type": "markdown",
   "metadata": {},
   "source": [
    "Zadatak 1. a) Rucno kreirati seriju koja ima 6 elemenata. \n",
    "b) Napraviti seriju gde eksplicitno navodite koje vrednosti indexa ce serija imati. Neka vrednosti index-a budu 10, 20, 30 itd. \n",
    "c) svaki elemnet serije povecati 10 puta\n",
    "d) koriscenjem naredbe head() prikazati prvih 5 elemenata serije\n",
    "e) odstampati prvi i cetvrti element serije. \n"
   ]
  },
  {
   "cell_type": "code",
   "execution_count": null,
   "metadata": {
    "collapsed": true
   },
   "outputs": [],
   "source": []
  },
  {
   "cell_type": "code",
   "execution_count": null,
   "metadata": {
    "collapsed": true
   },
   "outputs": [],
   "source": []
  },
  {
   "cell_type": "markdown",
   "metadata": {},
   "source": [
    "Zadatak 2. Rad sa .csv fajlovima. U prozoru home uploadovati '.csv' datoteke \"daily-minimum-temperatures.csv\" i  \"daily-total-female-births.csv\"\n",
    "\n",
    "Ucitati obe datoteke kao serije i prikazati prvih deset elemenata. Koristiti primere sa predavanja tako da datumi budu korektno ucitani"
   ]
  },
  {
   "cell_type": "code",
   "execution_count": null,
   "metadata": {
    "collapsed": true
   },
   "outputs": [],
   "source": []
  },
  {
   "cell_type": "markdown",
   "metadata": {},
   "source": [
    "2.1.Proveriti naredbom type koji je tip podatka element series.values, a koji tip podatka je series.index"
   ]
  },
  {
   "cell_type": "code",
   "execution_count": null,
   "metadata": {
    "collapsed": true
   },
   "outputs": [],
   "source": []
  },
  {
   "cell_type": "markdown",
   "metadata": {},
   "source": [
    "2.2. Odstampati koliko je dugacka serija 'temperatures'"
   ]
  },
  {
   "cell_type": "code",
   "execution_count": null,
   "metadata": {
    "collapsed": true
   },
   "outputs": [],
   "source": [
    " "
   ]
  },
  {
   "cell_type": "markdown",
   "metadata": {},
   "source": [
    "2.3. Iz serije 'female births' prikazati za mesec mart sve vrednosti serije. "
   ]
  },
  {
   "cell_type": "code",
   "execution_count": null,
   "metadata": {
    "collapsed": true
   },
   "outputs": [],
   "source": []
  },
  {
   "cell_type": "markdown",
   "metadata": {},
   "source": [
    "2.4. Na seriju 'female births' primeniti deskriptivnu statistiku i analizirajte brojeve. Koliko je najmanje, a koliko najvise dece rodjeno u ovom mesecu ?"
   ]
  },
  {
   "cell_type": "markdown",
   "metadata": {},
   "source": [
    "2.5. Pronaci u kom mesecu je ukupno rodjeno najvise dece. \n",
    " "
   ]
  },
  {
   "cell_type": "code",
   "execution_count": null,
   "metadata": {
    "collapsed": true
   },
   "outputs": [],
   "source": [
    "series = read_csv( 'daily-total-female-births.csv', header=0, parse_dates=[0], squeeze=True, index_col=0)\n",
    "series_01 = series ['1959-01']\n",
    "series_01.max()\n",
    "\n",
    "# razresite ovo rucno menjajuci vrednosti 01, u 02, 03 itd... "
   ]
  },
  {
   "cell_type": "code",
   "execution_count": null,
   "metadata": {
    "collapsed": true
   },
   "outputs": [],
   "source": [
    "mesec_id = 0\n",
    "for mesec_id in range(1,6):\n",
    "    mesec = '1959-0' + str(mesec_id)\n",
    "    print (mesec)\n",
    "    series_novo = series[mesec]\n",
    "    print ( series_novo.max())\n",
    "\n",
    "# U ovom kodu uradjeno je u for petlji racunanje maximalnog broja rodjenja dece za prvih 5 meseci\n",
    "# uraditi ovo za sve mesece."
   ]
  },
  {
   "cell_type": "markdown",
   "metadata": {},
   "source": [
    "3.1 iscrtati vremensku seriju koja prikazuje temperature. \n",
    "Koristiti dva stila koja su prikazana na predavanjima. "
   ]
  },
  {
   "cell_type": "markdown",
   "metadata": {},
   "source": [
    "3.2. Nacrtati histogram temperature za celu vremensku seriju temperatura. \n",
    "Nacrtati histogram samo za jednu celu godinu po izboru. "
   ]
  },
  {
   "cell_type": "markdown",
   "metadata": {},
   "source": [
    "3.3. Koristeci naredbu series.argmax() pronaci najtopliji dan u seriji kada je temperatura bila najvisa. \n",
    "Pronaci najtopliji dan u mesecu 'mart'."
   ]
  },
  {
   "cell_type": "code",
   "execution_count": null,
   "metadata": {
    "collapsed": true
   },
   "outputs": [],
   "source": [
    "from matplotlib import pyplot\n",
    "%matplotlib inline\n",
    "pyplot.plot(series)\n"
   ]
  },
  {
   "cell_type": "markdown",
   "metadata": {},
   "source": [
    "4.1. Prepisati kod koji se nalazi na stranici 19/44 u fajlu AOP_003.pdf. \n",
    "Analizirati sta je uradio ovaj deo koda. Cemu sluzi parametar 'A' ?\n",
    "proveriti sta se nalazi u promenljivama name, group i groups. \n",
    "Sta je ispis naredbe years.head(10) ?\n",
    "\n"
   ]
  },
  {
   "cell_type": "markdown",
   "metadata": {},
   "source": [
    "5.1. Prepisati kod koji se nalazi na stranici 25/44. Analizirati boxplot grafik. "
   ]
  },
  {
   "cell_type": "code",
   "execution_count": null,
   "metadata": {
    "collapsed": true
   },
   "outputs": [],
   "source": []
  },
  {
   "cell_type": "markdown",
   "metadata": {},
   "source": [
    "5.2. Odabrati jednu godinu i za nju nacrtati grafik boxplot za svaki od 12 meseci. Koji je najtopliji, a koji najhladniji mesec ?"
   ]
  },
  {
   "cell_type": "code",
   "execution_count": null,
   "metadata": {
    "collapsed": true
   },
   "outputs": [],
   "source": []
  },
  {
   "cell_type": "markdown",
   "metadata": {},
   "source": [
    "6.1. Nacrtati lag-scatter plot za vremensku seriju temperature. "
   ]
  },
  {
   "cell_type": "code",
   "execution_count": null,
   "metadata": {
    "collapsed": true
   },
   "outputs": [],
   "source": []
  },
  {
   "cell_type": "markdown",
   "metadata": {},
   "source": [
    "#Za razmisljanje.\n",
    "Tezi zadatak. Kako biste pronasli dve godine koje su najslicnije po temperaturama ?"
   ]
  },
  {
   "cell_type": "code",
   "execution_count": null,
   "metadata": {
    "collapsed": true
   },
   "outputs": [],
   "source": []
  }
 ],
 "metadata": {
  "kernelspec": {
   "display_name": "Python 3",
   "language": "python",
   "name": "python3"
  },
  "language_info": {
   "codemirror_mode": {
    "name": "ipython",
    "version": 3
   },
   "file_extension": ".py",
   "mimetype": "text/x-python",
   "name": "python",
   "nbconvert_exporter": "python",
   "pygments_lexer": "ipython3",
   "version": "3.6.1"
  }
 },
 "nbformat": 4,
 "nbformat_minor": 2
}
