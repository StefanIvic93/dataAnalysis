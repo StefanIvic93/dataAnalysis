{
 "cells": [
  {
   "cell_type": "code",
   "execution_count": null,
   "metadata": {
    "collapsed": true
   },
   "outputs": [],
   "source": [
    "#Ovu celiju koristiti za import svih biblioteka\n",
    "import matplotlib.pyplot as plt\n",
    "%matplotlib inline"
   ]
  },
  {
   "cell_type": "code",
   "execution_count": null,
   "metadata": {},
   "outputs": [],
   "source": [
    "def mean_squared_error_our(y_true, y_pred):\n",
    "    '''\n",
    "    Napisati vasu MSE funkciju.\n",
    "    \n",
    "    Formula: https://en.wikipedia.org/wiki/Mean_squared_error\n",
    "    '''\n",
    "    assert len(y_true) == len(y_pred)\n",
    "    \n",
    "    mse = None\n",
    "    \n",
    "    return mse"
   ]
  },
  {
   "cell_type": "code",
   "execution_count": null,
   "metadata": {},
   "outputs": [],
   "source": [
    "#OBAVEZNO:\n",
    "#Pokrenuti ovu celiju kako bi proverili da li ste dobro napisali funkciju mean_squared_error_our\n",
    "from sklearn.metrics import mean_squared_error\n",
    "import numpy as np\n",
    "y_true = np.random.randn(10)\n",
    "y_pred = np.random.randn(10)\n",
    "assert mean_squared_error(y_true, y_pred) == mean_squared_error_our(y_true, y_pred)"
   ]
  },
  {
   "cell_type": "code",
   "execution_count": null,
   "metadata": {},
   "outputs": [],
   "source": [
    "#Zadatak broj 1.\n",
    "#Linear regression\n",
    "\n",
    "# Zamenite linije u jednacini tako da vas dataset bude lociran:\n",
    "# izmedju -10 i 20 po Y-osi\n",
    "# izmedju 0 i 15 po X-osi\n",
    "rng = np.random.RandomState(1)\n",
    "x = _ * rng.rand(100)\n",
    "y = 2 * x - _ + rng.randn(100)\n",
    "plt.scatter(x, y);"
   ]
  },
  {
   "cell_type": "code",
   "execution_count": null,
   "metadata": {},
   "outputs": [],
   "source": [
    "#Zadatak 1.1\n",
    "#Import Linear Regression from sklearn pre ovog koda\n",
    "\n",
    "model = None\n",
    "\n",
    "model.fit(None, None)\n",
    "\n",
    "xfit = np.linspace(0, 15, 1000)\n",
    "yfit = model.predict(xfit.reshape(-1, 1))\n",
    "\n",
    "plt.scatter(x, y)\n",
    "plt.plot(xfit, yfit, c='r');"
   ]
  },
  {
   "cell_type": "code",
   "execution_count": null,
   "metadata": {},
   "outputs": [],
   "source": [
    "# Zadatak 1.2\n",
    "#Prikazite koeficijente i presek prave koju ste generisali\n",
    "print(model.__)\n",
    "print(model.__)"
   ]
  },
  {
   "cell_type": "code",
   "execution_count": null,
   "metadata": {
    "collapsed": true
   },
   "outputs": [],
   "source": [
    "# Zadatak 2\n",
    "# Persistence models\n",
    "\n",
    "#Korak 1. koristeci biblioteku pandas uvezite CSV fajl.\n",
    "#Korak 2. primenite day shit za 1 dan na uvezeni fajl.\n",
    "#Korak 3. uradite concat na shiftovane vrednosti i originalne vrednosti\n",
    "X = dataframe.values"
   ]
  },
  {
   "cell_type": "code",
   "execution_count": null,
   "metadata": {
    "collapsed": true
   },
   "outputs": [],
   "source": [
    "train_size = int(len(X) * 0.70)"
   ]
  },
  {
   "cell_type": "code",
   "execution_count": null,
   "metadata": {
    "collapsed": true
   },
   "outputs": [],
   "source": [
    "# Zadatak 2.1\n",
    "#Kreirajte X_train, X_test, y_train, y_test koristeci train_size varjablu\n"
   ]
  },
  {
   "cell_type": "code",
   "execution_count": null,
   "metadata": {
    "collapsed": true
   },
   "outputs": [],
   "source": [
    "def model_persistence(x):\n",
    "    '''\n",
    "    Dovrsiti funkciju.\n",
    "    '''\n",
    "    return None"
   ]
  },
  {
   "cell_type": "code",
   "execution_count": null,
   "metadata": {
    "collapsed": true
   },
   "outputs": [],
   "source": [
    "# Zadatak 2.2\n",
    "# Koristeci TEST set izracunajte RMSE i MSE\n",
    "predictions = list()\n",
    "\n",
    "for x in X_test:\n",
    "    y_pred = model_persistence(x)\n",
    "    predictions.append(y_pred)"
   ]
  },
  {
   "cell_type": "code",
   "execution_count": null,
   "metadata": {},
   "outputs": [],
   "source": [
    "rmse = None\n",
    "print(\"RMSE na test setu iznosi: {}\".format(rmse))\n",
    "mse = None\n",
    "print(\"MSE na test setu iznosi: {}\".format(mse))"
   ]
  },
  {
   "cell_type": "code",
   "execution_count": null,
   "metadata": {},
   "outputs": [],
   "source": [
    "# Zadatak 3.0\n",
    "# Na koji nacin mozete resiti sledeci problem linearnom regresijom?\n",
    "\n",
    "rng = np.random.RandomState(1)\n",
    "x_part_1 = 5 * rng.rand(50)\n",
    "y_part_1 = 2 * x_part_1 - 5 + rng.randn(50)\n",
    "\n",
    "x_part_2 = 5 * rng.rand(50) + 5\n",
    "y_part_2 = -2 * x_part_2 +10 + rng.randn(50)\n",
    "\n",
    "x_part_3 = 5 * rng.rand(50) + 11\n",
    "y_part_3 =  2 * x_part_3 - 30 + rng.randn(50)\n",
    "\n",
    "plt.scatter(x_part_1, y_part_1)\n",
    "plt.scatter(x_part_2, y_part_2)\n",
    "plt.scatter(x_part_3, y_part_3)"
   ]
  },
  {
   "cell_type": "code",
   "execution_count": null,
   "metadata": {
    "collapsed": true
   },
   "outputs": [],
   "source": [
    "# Zadatak 3.1\n",
    "# Resite dataset iz 3.0 uz pomoc linearne regresije"
   ]
  }
 ],
 "metadata": {
  "kernelspec": {
   "display_name": "Python 3",
   "language": "python",
   "name": "python3"
  },
  "language_info": {
   "codemirror_mode": {
    "name": "ipython",
    "version": 3
   },
   "file_extension": ".py",
   "mimetype": "text/x-python",
   "name": "python",
   "nbconvert_exporter": "python",
   "pygments_lexer": "ipython3",
   "version": "3.6.3"
  }
 },
 "nbformat": 4,
 "nbformat_minor": 2
}
