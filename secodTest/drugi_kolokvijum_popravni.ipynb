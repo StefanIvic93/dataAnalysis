{
 "cells": [
  {
   "cell_type": "code",
   "execution_count": 1,
   "metadata": {
    "collapsed": true
   },
   "outputs": [],
   "source": [
    "# skriptu nazvati \"Ime_prezime_broj_indeksa.ipynb\"\n",
    "# Predvidjenu seriju eksportovati kao .csv fajl\n",
    "# u formatu da je u provj koloni datum kao u samom radnom .csv fajlu, a u drugoj koloni je trazena predikcija\n",
    "# \"Ime_prezime_broj_indeksa.ipynb.csv\" fajl, kao i .html i .ipynb fajl poslati na \n",
    "# vmatic@singidunum.ac.rs\n",
    "\n",
    "# rezultati Vase predikcije rangirace se po formuli. \n",
    "# RMSE * 0.7 + error_max * 0.3"
   ]
  },
  {
   "cell_type": "markdown",
   "metadata": {},
   "source": [
    "1. Zadatak. Izracunati predikciju za kolonu REVENUE za mesec novembar i decembar 2017. \n",
    "Za resavanje zadatka moguce je koristiti sve metode koje su radjene na casu. \n",
    "Dodatno, zadatak se moze koristiti primenom regresije. Opsta ideja jeste da se napravi struktura \n",
    "sa nekoliko zakasnjenih dana serije, kao i neke druge vrednosti koje smatrate da mogu biti bitne za predikciju. \n",
    "Ove vrednosti mogu se koristiti u modelima za regresiju kao sto je Support Vector Regression. Razlika u poredjenju sa prethodnim kolokvijumom je da mozete koristiti i kolonu Occupancy, koja govori o popunjenosti hotela. \n",
    "\n",
    "http://scikit-learn.org/stable/modules/generated/sklearn.svm.SVR.html\n",
    "\n",
    "https://machinelearningmastery.com/convert-time-series-supervised-learning-problem-python/\n",
    "\n"
   ]
  },
  {
   "cell_type": "code",
   "execution_count": 5,
   "metadata": {
    "collapsed": true
   },
   "outputs": [],
   "source": [
    "import pandas as pd\n",
    "import numpy as np \n",
    "import matplotlib.pyplot as plt\n",
    "#import seaborn as sns\n",
    "%matplotlib inline\n",
    "#%pylab"
   ]
  },
  {
   "cell_type": "code",
   "execution_count": null,
   "metadata": {
    "collapsed": true
   },
   "outputs": [],
   "source": []
  }
 ],
 "metadata": {
  "kernelspec": {
   "display_name": "Python 3",
   "language": "python",
   "name": "python3"
  },
  "language_info": {
   "codemirror_mode": {
    "name": "ipython",
    "version": 3
   },
   "file_extension": ".py",
   "mimetype": "text/x-python",
   "name": "python",
   "nbconvert_exporter": "python",
   "pygments_lexer": "ipython3",
   "version": "3.6.1"
  }
 },
 "nbformat": 4,
 "nbformat_minor": 2
}
