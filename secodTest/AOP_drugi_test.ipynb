{
 "cells": [
  {
   "cell_type": "code",
   "execution_count": 1,
   "metadata": {
    "collapsed": true
   },
   "outputs": [],
   "source": [
    "# Analiza i obrada podataka\n",
    "# zadatke sacuvati kao .ipynb i .html fajl. \n",
    "# fajlove nazvati \"ime_prezime_broj_indeksa\"\n",
    "# Fajlove nemojte dodavati u zipp datoteku. \n",
    "# Fajlove poslati na vmatic@singidunum.ac.rs\n",
    "\n",
    "\n"
   ]
  },
  {
   "cell_type": "code",
   "execution_count": 7,
   "metadata": {},
   "outputs": [],
   "source": [
    "#Ucitati 'pollution_small' dataset\n",
    "# N unesite poslednju cifru vaseg index broja.\n",
    "# U komentaru upisite i ceo broj indexa radi provere !\n",
    "N = 0\n",
    "vremenska_serija =  N % 3\n",
    "# 0 - pm10\n",
    "# 1 - no2\n",
    "# 2 - so2"
   ]
  },
  {
   "cell_type": "markdown",
   "metadata": {},
   "source": [
    "1. Za datu seriju, obavezno onu koja je definisana brojem indeksa izracunati RMSE za predvidjene vrednosti za mesec april i novembar 2014 sa stvarnim vrednostima. Takodje, izracunati za koja 3 dana je maksimalna greska predikcije koja je napravljena u aprilu mesecu i u novembru mesecu (max3_error). \n",
    "Na osnovu ovoga izracunajte parametar RMSE, i max3_error_April i max3_error_Novembar. \n",
    "Pronaci model za koji su ovi parametri najmanji. \n",
    "Proveriti sledece modele persistence, AR i ARIMA. Za svaki model koji ispitujete u komentaru navedite vrednosti RMSE i max3_error. \n",
    "Takodje, mozete koristiti i neke druge modele za predikciju. \n",
    "\n",
    "\n"
   ]
  },
  {
   "cell_type": "code",
   "execution_count": 2,
   "metadata": {
    "collapsed": true
   },
   "outputs": [],
   "source": [
    "# Analiza i obrada podataka\n",
    "# zadatke sacuvati kao .ipynb i .html fajl. \n",
    "# fajlove nazvati \"ime_prezime_broj_indeksa\"\n",
    "# Fajlove nemojte dodavati u zipp datoteku. \n",
    "# Fajlove poslati na vmatic@singidunum.ac.rs\n",
    "\n"
   ]
  },
  {
   "cell_type": "code",
   "execution_count": null,
   "metadata": {
    "collapsed": true
   },
   "outputs": [],
   "source": []
  }
 ],
 "metadata": {
  "kernelspec": {
   "display_name": "Python 3",
   "language": "python",
   "name": "python3"
  },
  "language_info": {
   "codemirror_mode": {
    "name": "ipython",
    "version": 3
   },
   "file_extension": ".py",
   "mimetype": "text/x-python",
   "name": "python",
   "nbconvert_exporter": "python",
   "pygments_lexer": "ipython3",
   "version": "3.6.4"
  }
 },
 "nbformat": 4,
 "nbformat_minor": 1
}
